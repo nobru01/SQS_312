{
 "cells": [
  {
   "cell_type": "code",
   "execution_count": 52,
   "metadata": {},
   "outputs": [],
   "source": [
    "import pandas as pd\n",
    "from datetime import datetime, timedelta\n",
    "from dateutil.relativedelta import relativedelta\n",
    "from pyxirr import xirr\n",
    "pd.options.display.float_format = '{:,.2f}'.format\n"
   ]
  },
  {
   "cell_type": "markdown",
   "metadata": {},
   "source": [
    "# Imputs"
   ]
  },
  {
   "cell_type": "code",
   "execution_count": 53,
   "metadata": {},
   "outputs": [],
   "source": [
    "df_input=pd.read_csv('./input_fluxo_caixa.csv',header=None,index_col=0)\n",
    "df_input=df_input.rename(columns={1:'valor_variavel'})"
   ]
  },
  {
   "cell_type": "code",
   "execution_count": 54,
   "metadata": {},
   "outputs": [],
   "source": [
    "valor_imovel=df_input.loc['valor_imovel','valor_variavel']\n",
    "entrada_pp=df_input.loc['entrada_pp','valor_variavel']\n",
    "n_parcelas=int(df_input.loc['n_parcelas','valor_variavel'])                         # 35 anos\n",
    "juros_nominal=df_input.loc['juros_nominal','valor_variavel']                        # a.a\n",
    "area=df_input.loc['area','valor_variavel']"
   ]
  },
  {
   "cell_type": "markdown",
   "metadata": {},
   "source": [
    "# Custos Iniciais"
   ]
  },
  {
   "cell_type": "code",
   "execution_count": 55,
   "metadata": {},
   "outputs": [],
   "source": [
    "valor_entrada=valor_imovel*entrada_pp\n",
    "\n",
    "custo_itbi=0.03*valor_imovel\n",
    "custo_escritura=df_input.loc['custo_escritura','valor_variavel']\n",
    "custo_registro=df_input.loc['custo_registro','valor_variavel']\n",
    "custo_avaliacao=df_input.loc['custo_avaliacao','valor_variavel']\n",
    "\n",
    "total_custos_iniciais=valor_entrada+custo_itbi+custo_escritura+custo_registro+custo_avaliacao\n"
   ]
  },
  {
   "cell_type": "markdown",
   "metadata": {},
   "source": [
    "# Cálculo financiamento"
   ]
  },
  {
   "cell_type": "code",
   "execution_count": 56,
   "metadata": {},
   "outputs": [],
   "source": [
    "juros_efetivo=((1+juros_nominal/12)**(12)-1)            # Efeito anual dos juros sobre juros mensais.  \n",
    "\n",
    "valor_finaciado=valor_imovel-valor_entrada\n",
    "\n",
    "encargos_finaciamento=df_input.loc['encargos_finaciamento','valor_variavel']"
   ]
  },
  {
   "cell_type": "code",
   "execution_count": 57,
   "metadata": {},
   "outputs": [],
   "source": [
    "amortizacao=valor_finaciado/n_parcelas\n",
    "saldo_devedor=valor_finaciado\n",
    "\n",
    "# Cálculo do juros em função do mês\n",
    "def parcela(n):\n",
    "    saldo_devedor=valor_finaciado-(n-1)*amortizacao\n",
    "    juros=saldo_devedor*juros_nominal/12\n",
    "    return amortizacao+juros+encargos_finaciamento\n",
    "\n",
    "df=pd.DataFrame(columns=['parcela','saldo_devedor'],index=range(0,n_parcelas))\n",
    "\n",
    "\n",
    "for i in range(0,n_parcelas+1):\n",
    "    if i==0:\n",
    "        df.loc[i,'saldo_devedor']=valor_finaciado-i*amortizacao\n",
    "        df.loc[i,'parcela']=0\n",
    "    else:\n",
    "\n",
    "        df.loc[i,'saldo_devedor']=valor_finaciado-i*amortizacao\n",
    "        df.loc[i,'parcela']=parcela(i)"
   ]
  },
  {
   "cell_type": "markdown",
   "metadata": {},
   "source": [
    "# Custos fixos"
   ]
  },
  {
   "cell_type": "code",
   "execution_count": 58,
   "metadata": {},
   "outputs": [],
   "source": [
    "condominio=df_input.loc['condominio','valor_variavel']\n",
    "iptu_am=df_input.loc['iptu_aa','valor_variavel']/12\n",
    "luz=df_input.loc['luz','valor_variavel']\n",
    "\n",
    "total_custos_fixos=condominio+iptu_am+luz"
   ]
  },
  {
   "cell_type": "code",
   "execution_count": 59,
   "metadata": {},
   "outputs": [],
   "source": [
    "for i in range(0,len(df)):\n",
    "    df.loc[i,'custos_fixos']=total_custos_fixos\n",
    "    if i==0:\n",
    "        df.loc[i,'custos_iniciais']=total_custos_iniciais\n",
    "    else:\n",
    "        df.loc[i,'custos_iniciais']=0"
   ]
  },
  {
   "cell_type": "markdown",
   "metadata": {},
   "source": [
    "# Custos com reforma"
   ]
  },
  {
   "cell_type": "code",
   "execution_count": 60,
   "metadata": {},
   "outputs": [],
   "source": [
    "obra=df_input.loc['obra','valor_variavel']\n",
    "prazo_obra=df_input.loc['prazo_obra','valor_variavel']                # Prazo da obra em mesês\n",
    "\n",
    "def reforma(i, n,total):\n",
    "    if i==0:\n",
    "        return 0\n",
    "    elif i<=n:\n",
    "        return total/n\n",
    "    else:\n",
    "        return 0\n",
    "\n",
    "for i in range(0,len(df)):\n",
    "    df.loc[i,'reforma']=reforma(i,prazo_obra,obra)"
   ]
  },
  {
   "cell_type": "markdown",
   "metadata": {},
   "source": [
    "# Cenários de venda"
   ]
  },
  {
   "cell_type": "code",
   "execution_count": 61,
   "metadata": {},
   "outputs": [],
   "source": [
    "valor_venda=df_input.loc['valor_venda','valor_variavel']\n",
    "prazo_venda=int(prazo_obra+df_input.loc['prazo_venda_pos_obra','valor_variavel'])                # Prazo da obra em mesês + venda\n",
    "comissao=df_input.loc['comissao','valor_variavel']"
   ]
  },
  {
   "cell_type": "code",
   "execution_count": 62,
   "metadata": {},
   "outputs": [
    {
     "name": "stdout",
     "output_type": "stream",
     "text": [
      "Comissão: 16000.0\n"
     ]
    }
   ],
   "source": [
    "def venda(i, n,total):\n",
    "    if i==n:\n",
    "        print(f'Comissão: {comissao*valor_venda}')\n",
    "        return -total*(1-comissao)\n",
    "    else:\n",
    "        return 0\n",
    "\n",
    "for i in range(0,len(df)):\n",
    "    df.loc[i,'venda']=venda(i,prazo_venda,valor_venda)\n",
    "df['total']=df.sum(axis=1)\n",
    "df['total']=df['total']-df['saldo_devedor']\n",
    "\n",
    "# quitação do saldo devedor e anulação das despesas à partir da venda\n",
    "for i in range(0,len(df)):\n",
    "    if i>prazo_venda:\n",
    "        df.loc[i,'total']=0\n",
    "    elif i==prazo_venda:\n",
    "        df.loc[i,'total']=df.loc[i,'total']+df.loc[i,'saldo_devedor']"
   ]
  },
  {
   "cell_type": "code",
   "execution_count": 63,
   "metadata": {},
   "outputs": [
    {
     "data": {
      "text/html": [
       "<div>\n",
       "<style scoped>\n",
       "    .dataframe tbody tr th:only-of-type {\n",
       "        vertical-align: middle;\n",
       "    }\n",
       "\n",
       "    .dataframe tbody tr th {\n",
       "        vertical-align: top;\n",
       "    }\n",
       "\n",
       "    .dataframe thead th {\n",
       "        text-align: right;\n",
       "    }\n",
       "</style>\n",
       "<table border=\"1\" class=\"dataframe\">\n",
       "  <thead>\n",
       "    <tr style=\"text-align: right;\">\n",
       "      <th></th>\n",
       "      <th>parcela</th>\n",
       "      <th>saldo_devedor</th>\n",
       "      <th>custos_fixos</th>\n",
       "      <th>custos_iniciais</th>\n",
       "      <th>reforma</th>\n",
       "      <th>venda</th>\n",
       "      <th>total</th>\n",
       "      <th>data</th>\n",
       "    </tr>\n",
       "  </thead>\n",
       "  <tbody>\n",
       "    <tr>\n",
       "      <th>0</th>\n",
       "      <td>0</td>\n",
       "      <td>335,000.00</td>\n",
       "      <td>721.67</td>\n",
       "      <td>364,100.00</td>\n",
       "      <td>0.00</td>\n",
       "      <td>0.00</td>\n",
       "      <td>364,821.67</td>\n",
       "      <td>2022-08-18</td>\n",
       "    </tr>\n",
       "    <tr>\n",
       "      <th>1</th>\n",
       "      <td>3,158.16</td>\n",
       "      <td>334,202.38</td>\n",
       "      <td>721.67</td>\n",
       "      <td>0.00</td>\n",
       "      <td>15,000.00</td>\n",
       "      <td>0.00</td>\n",
       "      <td>18,879.83</td>\n",
       "      <td>2022-09-18</td>\n",
       "    </tr>\n",
       "    <tr>\n",
       "      <th>2</th>\n",
       "      <td>3,152.85</td>\n",
       "      <td>333,404.76</td>\n",
       "      <td>721.67</td>\n",
       "      <td>0.00</td>\n",
       "      <td>15,000.00</td>\n",
       "      <td>0.00</td>\n",
       "      <td>18,874.52</td>\n",
       "      <td>2022-10-18</td>\n",
       "    </tr>\n",
       "    <tr>\n",
       "      <th>3</th>\n",
       "      <td>3,147.54</td>\n",
       "      <td>332,607.14</td>\n",
       "      <td>721.67</td>\n",
       "      <td>0.00</td>\n",
       "      <td>15,000.00</td>\n",
       "      <td>0.00</td>\n",
       "      <td>18,869.21</td>\n",
       "      <td>2022-11-18</td>\n",
       "    </tr>\n",
       "    <tr>\n",
       "      <th>4</th>\n",
       "      <td>3,142.23</td>\n",
       "      <td>331,809.52</td>\n",
       "      <td>721.67</td>\n",
       "      <td>0.00</td>\n",
       "      <td>0.00</td>\n",
       "      <td>0.00</td>\n",
       "      <td>3,863.89</td>\n",
       "      <td>2022-12-18</td>\n",
       "    </tr>\n",
       "    <tr>\n",
       "      <th>5</th>\n",
       "      <td>3,136.92</td>\n",
       "      <td>331,011.90</td>\n",
       "      <td>721.67</td>\n",
       "      <td>0.00</td>\n",
       "      <td>0.00</td>\n",
       "      <td>0.00</td>\n",
       "      <td>3,858.58</td>\n",
       "      <td>2023-01-18</td>\n",
       "    </tr>\n",
       "    <tr>\n",
       "      <th>6</th>\n",
       "      <td>3,131.61</td>\n",
       "      <td>330,214.29</td>\n",
       "      <td>721.67</td>\n",
       "      <td>0.00</td>\n",
       "      <td>0.00</td>\n",
       "      <td>-784,000.00</td>\n",
       "      <td>-449,932.44</td>\n",
       "      <td>2023-02-18</td>\n",
       "    </tr>\n",
       "  </tbody>\n",
       "</table>\n",
       "</div>"
      ],
      "text/plain": [
       "   parcela saldo_devedor  custos_fixos  custos_iniciais   reforma       venda  \\\n",
       "0        0    335,000.00        721.67       364,100.00      0.00        0.00   \n",
       "1 3,158.16    334,202.38        721.67             0.00 15,000.00        0.00   \n",
       "2 3,152.85    333,404.76        721.67             0.00 15,000.00        0.00   \n",
       "3 3,147.54    332,607.14        721.67             0.00 15,000.00        0.00   \n",
       "4 3,142.23    331,809.52        721.67             0.00      0.00        0.00   \n",
       "5 3,136.92    331,011.90        721.67             0.00      0.00        0.00   \n",
       "6 3,131.61    330,214.29        721.67             0.00      0.00 -784,000.00   \n",
       "\n",
       "        total        data  \n",
       "0  364,821.67  2022-08-18  \n",
       "1   18,879.83  2022-09-18  \n",
       "2   18,874.52  2022-10-18  \n",
       "3   18,869.21  2022-11-18  \n",
       "4    3,863.89  2022-12-18  \n",
       "5    3,858.58  2023-01-18  \n",
       "6 -449,932.44  2023-02-18  "
      ]
     },
     "execution_count": 63,
     "metadata": {},
     "output_type": "execute_result"
    }
   ],
   "source": [
    "delta = relativedelta(months=1)\n",
    "delta_d = timedelta(days=1)\n",
    "start_date = datetime.today().date()+15*delta_d\n",
    "\n",
    "for i in range(0, len(df)):\n",
    "    if i==0:\n",
    "        df.loc[i,'data']=start_date\n",
    "    else:\n",
    "        df.loc[i,'data']=start_date+i*delta\n",
    "\n",
    "df=df[df['total']!=0]\n",
    "df.to_csv('output.csv', header=True, float_format='%.2f')\n",
    "df.head(12)"
   ]
  },
  {
   "cell_type": "code",
   "execution_count": 64,
   "metadata": {},
   "outputs": [],
   "source": [
    "# calculo da IRR\n",
    "def cal_irr(x):\n",
    "    \n",
    "    dates=list(x['data'])\n",
    "    amounts=list(x['total'])\n",
    "    t_aa=xirr(dates, amounts)\n",
    "    t_am=(1+t_aa)**(1/12)-1\n",
    "    print('TII a.a.(%): ',t_aa*100)\n",
    "    print('TII a.m.(%): ',t_am*100)\n",
    "    print('Lucro: ',-x['total'].sum())\n",
    "    # return (t_aa*100,t_am*100,-x['total'].sum())"
   ]
  },
  {
   "cell_type": "code",
   "execution_count": 65,
   "metadata": {},
   "outputs": [
    {
     "name": "stdout",
     "output_type": "stream",
     "text": [
      "TII a.a.(%):  10.448163023331162\n",
      "TII a.m.(%):  0.8315727836996079\n",
      "Lucro:  20764.745535714086\n"
     ]
    }
   ],
   "source": [
    "cal_irr(df)"
   ]
  },
  {
   "cell_type": "code",
   "execution_count": 66,
   "metadata": {},
   "outputs": [
    {
     "name": "stdout",
     "output_type": "stream",
     "text": [
      "m2 aquisição: 10151.515151515152\n",
      "m2 reforma: 681.8181818181819\n",
      "m2 venda: 12121.212121212122\n"
     ]
    }
   ],
   "source": [
    "valor_m2_aquisicao=valor_imovel/area\n",
    "print(f'm2 aquisição: {valor_m2_aquisicao}')\n",
    "valor_m2_venda=valor_venda/area\n",
    "print(f'm2 reforma: {obra/area}')\n",
    "print(f'm2 venda: {valor_m2_venda}')\n"
   ]
  },
  {
   "cell_type": "code",
   "execution_count": 67,
   "metadata": {},
   "outputs": [
    {
     "data": {
      "text/plain": [
       "796"
      ]
     },
     "execution_count": 67,
     "metadata": {},
     "output_type": "execute_result"
    }
   ],
   "source": [
    "11*66+70"
   ]
  },
  {
   "cell_type": "code",
   "execution_count": 68,
   "metadata": {},
   "outputs": [],
   "source": [
    "### projeções de inflação e crescimento econômico para evolução dos preços de venda"
   ]
  }
 ],
 "metadata": {
  "kernelspec": {
   "display_name": "Python 3.8.8rc1 64-bit",
   "language": "python",
   "name": "python3"
  },
  "language_info": {
   "codemirror_mode": {
    "name": "ipython",
    "version": 3
   },
   "file_extension": ".py",
   "mimetype": "text/x-python",
   "name": "python",
   "nbconvert_exporter": "python",
   "pygments_lexer": "ipython3",
   "version": "3.8.8"
  },
  "orig_nbformat": 4,
  "vscode": {
   "interpreter": {
    "hash": "83cf7eeadaf646b3321d4575d07c9bf48b573c7617f9528f013e5f345607d169"
   }
  }
 },
 "nbformat": 4,
 "nbformat_minor": 2
}
