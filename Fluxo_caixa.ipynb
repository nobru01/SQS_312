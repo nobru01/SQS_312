{
 "cells": [
  {
   "cell_type": "code",
   "execution_count": 295,
   "metadata": {},
   "outputs": [],
   "source": [
    "import pandas as pd\n",
    "from datetime import datetime, timedelta\n",
    "from dateutil.relativedelta import relativedelta\n",
    "from pyxirr import xirr\n",
    "pd.options.display.float_format = '{:,.2f}'.format\n"
   ]
  },
  {
   "cell_type": "markdown",
   "metadata": {},
   "source": [
    "# Imputs"
   ]
  },
  {
   "cell_type": "code",
   "execution_count": 296,
   "metadata": {},
   "outputs": [],
   "source": [
    "df_input=pd.read_csv('./input_fluxo_caixa.csv',header=None,index_col=0)\n",
    "df_input=df_input.rename(columns={1:'valor_variavel'})"
   ]
  },
  {
   "cell_type": "code",
   "execution_count": 297,
   "metadata": {},
   "outputs": [],
   "source": [
    "valor_imovel=df_input.loc['valor_imovel','valor_variavel']\n",
    "entrada_pp=df_input.loc['entrada_pp','valor_variavel']\n",
    "entrada_por_valor=df_input.loc['entrada_por_valor','valor_variavel']\n",
    "financiamento_0_ou_1=df_input.loc['financiamento_0_ou_1','valor_variavel']\n",
    "area=df_input.loc['area','valor_variavel']"
   ]
  },
  {
   "cell_type": "markdown",
   "metadata": {},
   "source": [
    "# Custos Iniciais"
   ]
  },
  {
   "cell_type": "code",
   "execution_count": 298,
   "metadata": {},
   "outputs": [],
   "source": [
    "custo_itbi=0.03*valor_imovel\n",
    "custo_escritura=df_input.loc['custo_escritura','valor_variavel']\n",
    "custo_registro=df_input.loc['custo_registro','valor_variavel']\n"
   ]
  },
  {
   "cell_type": "markdown",
   "metadata": {},
   "source": [
    "# Cálculo financiamento"
   ]
  },
  {
   "cell_type": "code",
   "execution_count": 299,
   "metadata": {},
   "outputs": [],
   "source": [
    "# Cálculo do juros em função do mês\n",
    "def parcela(n):\n",
    "    saldo_devedor=valor_finaciado-(n-1)*amortizacao\n",
    "    juros=saldo_devedor*juros_nominal/12\n",
    "    return amortizacao+juros+encargos_finaciamento\n"
   ]
  },
  {
   "cell_type": "code",
   "execution_count": 300,
   "metadata": {},
   "outputs": [],
   "source": [
    "if financiamento_0_ou_1==1:\n",
    "    n_parcelas=int(df_input.loc['n_parcelas','valor_variavel'])                         # 35 anos\n",
    "    df=pd.DataFrame(columns=['parcela','saldo_devedor'],index=range(0,n_parcelas))\n",
    "    juros_nominal=df_input.loc['juros_nominal','valor_variavel']                        # a.a    \n",
    "    juros_tr=df_input.loc['tr','valor_variavel']                        # a.a\n",
    "    juros_nominal=juros_nominal+juros_tr\n",
    "    custo_avaliacao=df_input.loc['custo_avaliacao','valor_variavel']\n",
    "    juros_efetivo=((1+juros_nominal/12)**(12)-1)            # Efeito anual dos juros sobre juros mensais.  \n",
    "\n",
    "    # he usual way to test for a NaN is to see if it's equal to itself:\n",
    "    if entrada_por_valor!=entrada_por_valor:\n",
    "        # Não digitou o valor da entrada\n",
    "        if entrada_pp!=entrada_pp:\n",
    "            print('Digite o valor da entrada ou seu percentual.')\n",
    "        else:\n",
    "            valor_entrada=valor_imovel*entrada_pp\n",
    "    else:\n",
    "        valor_entrada=entrada_por_valor\n",
    "    \n",
    "    valor_finaciado=valor_imovel-valor_entrada\n",
    "    encargos_finaciamento=df_input.loc['encargos_finaciamento','valor_variavel']\n",
    "    amortizacao=valor_finaciado/n_parcelas\n",
    "    saldo_devedor=valor_finaciado\n",
    "\n",
    "else:\n",
    "    amortizacao=0\n",
    "    saldo_devedor=0\n",
    "    n_parcelas=0   \n",
    "    juros_nominal=0\n",
    "    custo_avaliacao=0\n",
    "    juros_efetivo=0  \n",
    "    valor_finaciado=0\n",
    "    encargos_finaciamento=0\n",
    "    valor_entrada=valor_imovel"
   ]
  },
  {
   "cell_type": "code",
   "execution_count": 301,
   "metadata": {},
   "outputs": [],
   "source": [
    "total_custos_iniciais=valor_entrada+custo_itbi+custo_escritura+custo_registro+custo_avaliacao"
   ]
  },
  {
   "cell_type": "code",
   "execution_count": 302,
   "metadata": {},
   "outputs": [],
   "source": [
    "for i in range(0,max(24,n_parcelas+1)):             # Se não for financiado seta o df para 24 linhas inicialmente\n",
    "    if i==0:\n",
    "        df.loc[i,'saldo_devedor']=valor_finaciado-i*amortizacao\n",
    "        df.loc[i,'parcela']=0\n",
    "    else:\n",
    "\n",
    "        df.loc[i,'saldo_devedor']=valor_finaciado-i*amortizacao\n",
    "        df.loc[i,'parcela']=parcela(i)"
   ]
  },
  {
   "cell_type": "markdown",
   "metadata": {},
   "source": [
    "# Custos fixos"
   ]
  },
  {
   "cell_type": "code",
   "execution_count": 303,
   "metadata": {},
   "outputs": [],
   "source": [
    "condominio=df_input.loc['condominio','valor_variavel']\n",
    "iptu_am=df_input.loc['iptu_aa','valor_variavel']/12\n",
    "luz=df_input.loc['luz','valor_variavel']\n",
    "\n",
    "total_custos_fixos=condominio+iptu_am+luz"
   ]
  },
  {
   "cell_type": "code",
   "execution_count": 304,
   "metadata": {},
   "outputs": [],
   "source": [
    "for i in range(0,len(df)):\n",
    "    df.loc[i,'custos_fixos']=total_custos_fixos\n",
    "    if i==0:\n",
    "        df.loc[i,'custos_iniciais']=total_custos_iniciais\n",
    "    else:\n",
    "        df.loc[i,'custos_iniciais']=0"
   ]
  },
  {
   "cell_type": "markdown",
   "metadata": {},
   "source": [
    "# Custos com reforma"
   ]
  },
  {
   "cell_type": "code",
   "execution_count": 305,
   "metadata": {},
   "outputs": [],
   "source": [
    "obra=df_input.loc['obra','valor_variavel']\n",
    "prazo_obra=df_input.loc['prazo_obra','valor_variavel']                # Prazo da obra em mesês\n",
    "\n",
    "def reforma(i, n,total):\n",
    "    if i==0:\n",
    "        return 0\n",
    "    elif i<=n:\n",
    "        return total/n\n",
    "    else:\n",
    "        return 0\n",
    "\n",
    "for i in range(0,len(df)):\n",
    "    df.loc[i,'reforma']=reforma(i,prazo_obra,obra)"
   ]
  },
  {
   "cell_type": "markdown",
   "metadata": {},
   "source": [
    "# Cenários de venda"
   ]
  },
  {
   "cell_type": "code",
   "execution_count": 306,
   "metadata": {},
   "outputs": [],
   "source": [
    "valor_venda=df_input.loc['valor_venda','valor_variavel']\n",
    "prazo_venda=int(prazo_obra+df_input.loc['prazo_venda_pos_obra','valor_variavel'])                # Prazo da obra em mesês + venda\n",
    "comissao=df_input.loc['comissao','valor_variavel']"
   ]
  },
  {
   "cell_type": "code",
   "execution_count": 307,
   "metadata": {},
   "outputs": [
    {
     "name": "stdout",
     "output_type": "stream",
     "text": [
      "Comissão: 7500.0\n"
     ]
    }
   ],
   "source": [
    "def venda(i, n,total):\n",
    "    if i==n:\n",
    "        print(f'Comissão: {comissao*valor_venda}')\n",
    "        return -total*(1-comissao)\n",
    "    else:\n",
    "        return 0\n",
    "\n",
    "for i in range(0,len(df)):\n",
    "    df.loc[i,'venda']=venda(i,prazo_venda,valor_venda)\n",
    "df['total']=df.sum(axis=1)\n",
    "df['total']=df['total']-df['saldo_devedor']\n",
    "\n",
    "# quitação do saldo devedor e anulação das despesas à partir da venda\n",
    "for i in range(0,len(df)):\n",
    "    if i>prazo_venda:\n",
    "        df.loc[i,'total']=0\n",
    "    elif i==prazo_venda:\n",
    "        df.loc[i,'total']=df.loc[i,'total']+df.loc[i,'saldo_devedor']"
   ]
  },
  {
   "cell_type": "code",
   "execution_count": 308,
   "metadata": {},
   "outputs": [
    {
     "data": {
      "text/html": [
       "<div>\n",
       "<style scoped>\n",
       "    .dataframe tbody tr th:only-of-type {\n",
       "        vertical-align: middle;\n",
       "    }\n",
       "\n",
       "    .dataframe tbody tr th {\n",
       "        vertical-align: top;\n",
       "    }\n",
       "\n",
       "    .dataframe thead th {\n",
       "        text-align: right;\n",
       "    }\n",
       "</style>\n",
       "<table border=\"1\" class=\"dataframe\">\n",
       "  <thead>\n",
       "    <tr style=\"text-align: right;\">\n",
       "      <th></th>\n",
       "      <th>parcela</th>\n",
       "      <th>saldo_devedor</th>\n",
       "      <th>custos_fixos</th>\n",
       "      <th>custos_iniciais</th>\n",
       "      <th>reforma</th>\n",
       "      <th>venda</th>\n",
       "      <th>total</th>\n",
       "      <th>data</th>\n",
       "    </tr>\n",
       "  </thead>\n",
       "  <tbody>\n",
       "    <tr>\n",
       "      <th>0</th>\n",
       "      <td>0</td>\n",
       "      <td>100,000.00</td>\n",
       "      <td>771.67</td>\n",
       "      <td>575,600.00</td>\n",
       "      <td>0.00</td>\n",
       "      <td>0.00</td>\n",
       "      <td>576,371.67</td>\n",
       "      <td>2022-08-23</td>\n",
       "    </tr>\n",
       "    <tr>\n",
       "      <th>1</th>\n",
       "      <td>1,270.60</td>\n",
       "      <td>99,761.90</td>\n",
       "      <td>771.67</td>\n",
       "      <td>0.00</td>\n",
       "      <td>7,500.00</td>\n",
       "      <td>0.00</td>\n",
       "      <td>9,542.26</td>\n",
       "      <td>2022-09-23</td>\n",
       "    </tr>\n",
       "    <tr>\n",
       "      <th>2</th>\n",
       "      <td>1,268.49</td>\n",
       "      <td>99,523.81</td>\n",
       "      <td>771.67</td>\n",
       "      <td>0.00</td>\n",
       "      <td>7,500.00</td>\n",
       "      <td>0.00</td>\n",
       "      <td>9,540.16</td>\n",
       "      <td>2022-10-23</td>\n",
       "    </tr>\n",
       "    <tr>\n",
       "      <th>3</th>\n",
       "      <td>1,266.39</td>\n",
       "      <td>99,285.71</td>\n",
       "      <td>771.67</td>\n",
       "      <td>0.00</td>\n",
       "      <td>0.00</td>\n",
       "      <td>0.00</td>\n",
       "      <td>2,038.06</td>\n",
       "      <td>2022-11-23</td>\n",
       "    </tr>\n",
       "    <tr>\n",
       "      <th>4</th>\n",
       "      <td>1,264.29</td>\n",
       "      <td>99,047.62</td>\n",
       "      <td>771.67</td>\n",
       "      <td>0.00</td>\n",
       "      <td>0.00</td>\n",
       "      <td>0.00</td>\n",
       "      <td>2,035.96</td>\n",
       "      <td>2022-12-23</td>\n",
       "    </tr>\n",
       "    <tr>\n",
       "      <th>5</th>\n",
       "      <td>1,262.19</td>\n",
       "      <td>98,809.52</td>\n",
       "      <td>771.67</td>\n",
       "      <td>0.00</td>\n",
       "      <td>0.00</td>\n",
       "      <td>0.00</td>\n",
       "      <td>2,033.86</td>\n",
       "      <td>2023-01-23</td>\n",
       "    </tr>\n",
       "    <tr>\n",
       "      <th>6</th>\n",
       "      <td>1,260.09</td>\n",
       "      <td>98,571.43</td>\n",
       "      <td>771.67</td>\n",
       "      <td>0.00</td>\n",
       "      <td>0.00</td>\n",
       "      <td>0.00</td>\n",
       "      <td>2,031.76</td>\n",
       "      <td>2023-02-23</td>\n",
       "    </tr>\n",
       "    <tr>\n",
       "      <th>7</th>\n",
       "      <td>1,257.99</td>\n",
       "      <td>98,333.33</td>\n",
       "      <td>771.67</td>\n",
       "      <td>0.00</td>\n",
       "      <td>0.00</td>\n",
       "      <td>0.00</td>\n",
       "      <td>2,029.65</td>\n",
       "      <td>2023-03-23</td>\n",
       "    </tr>\n",
       "    <tr>\n",
       "      <th>8</th>\n",
       "      <td>1,255.89</td>\n",
       "      <td>98,095.24</td>\n",
       "      <td>771.67</td>\n",
       "      <td>0.00</td>\n",
       "      <td>0.00</td>\n",
       "      <td>0.00</td>\n",
       "      <td>2,027.55</td>\n",
       "      <td>2023-04-23</td>\n",
       "    </tr>\n",
       "    <tr>\n",
       "      <th>9</th>\n",
       "      <td>1,253.79</td>\n",
       "      <td>97,857.14</td>\n",
       "      <td>771.67</td>\n",
       "      <td>0.00</td>\n",
       "      <td>0.00</td>\n",
       "      <td>0.00</td>\n",
       "      <td>2,025.45</td>\n",
       "      <td>2023-05-23</td>\n",
       "    </tr>\n",
       "    <tr>\n",
       "      <th>10</th>\n",
       "      <td>1,251.68</td>\n",
       "      <td>97,619.05</td>\n",
       "      <td>771.67</td>\n",
       "      <td>0.00</td>\n",
       "      <td>0.00</td>\n",
       "      <td>0.00</td>\n",
       "      <td>2,023.35</td>\n",
       "      <td>2023-06-23</td>\n",
       "    </tr>\n",
       "    <tr>\n",
       "      <th>11</th>\n",
       "      <td>1,249.58</td>\n",
       "      <td>97,380.95</td>\n",
       "      <td>771.67</td>\n",
       "      <td>0.00</td>\n",
       "      <td>0.00</td>\n",
       "      <td>0.00</td>\n",
       "      <td>2,021.25</td>\n",
       "      <td>2023-07-23</td>\n",
       "    </tr>\n",
       "    <tr>\n",
       "      <th>12</th>\n",
       "      <td>1,247.48</td>\n",
       "      <td>97,142.86</td>\n",
       "      <td>771.67</td>\n",
       "      <td>0.00</td>\n",
       "      <td>0.00</td>\n",
       "      <td>0.00</td>\n",
       "      <td>2,019.15</td>\n",
       "      <td>2023-08-23</td>\n",
       "    </tr>\n",
       "    <tr>\n",
       "      <th>13</th>\n",
       "      <td>1,245.38</td>\n",
       "      <td>96,904.76</td>\n",
       "      <td>771.67</td>\n",
       "      <td>0.00</td>\n",
       "      <td>0.00</td>\n",
       "      <td>0.00</td>\n",
       "      <td>2,017.05</td>\n",
       "      <td>2023-09-23</td>\n",
       "    </tr>\n",
       "    <tr>\n",
       "      <th>14</th>\n",
       "      <td>1,243.28</td>\n",
       "      <td>96,666.67</td>\n",
       "      <td>771.67</td>\n",
       "      <td>0.00</td>\n",
       "      <td>0.00</td>\n",
       "      <td>-742,500.00</td>\n",
       "      <td>-643,818.39</td>\n",
       "      <td>2023-10-23</td>\n",
       "    </tr>\n",
       "  </tbody>\n",
       "</table>\n",
       "</div>"
      ],
      "text/plain": [
       "    parcela saldo_devedor  custos_fixos  custos_iniciais  reforma       venda  \\\n",
       "0         0    100,000.00        771.67       575,600.00     0.00        0.00   \n",
       "1  1,270.60     99,761.90        771.67             0.00 7,500.00        0.00   \n",
       "2  1,268.49     99,523.81        771.67             0.00 7,500.00        0.00   \n",
       "3  1,266.39     99,285.71        771.67             0.00     0.00        0.00   \n",
       "4  1,264.29     99,047.62        771.67             0.00     0.00        0.00   \n",
       "5  1,262.19     98,809.52        771.67             0.00     0.00        0.00   \n",
       "6  1,260.09     98,571.43        771.67             0.00     0.00        0.00   \n",
       "7  1,257.99     98,333.33        771.67             0.00     0.00        0.00   \n",
       "8  1,255.89     98,095.24        771.67             0.00     0.00        0.00   \n",
       "9  1,253.79     97,857.14        771.67             0.00     0.00        0.00   \n",
       "10 1,251.68     97,619.05        771.67             0.00     0.00        0.00   \n",
       "11 1,249.58     97,380.95        771.67             0.00     0.00        0.00   \n",
       "12 1,247.48     97,142.86        771.67             0.00     0.00        0.00   \n",
       "13 1,245.38     96,904.76        771.67             0.00     0.00        0.00   \n",
       "14 1,243.28     96,666.67        771.67             0.00     0.00 -742,500.00   \n",
       "\n",
       "         total        data  \n",
       "0   576,371.67  2022-08-23  \n",
       "1     9,542.26  2022-09-23  \n",
       "2     9,540.16  2022-10-23  \n",
       "3     2,038.06  2022-11-23  \n",
       "4     2,035.96  2022-12-23  \n",
       "5     2,033.86  2023-01-23  \n",
       "6     2,031.76  2023-02-23  \n",
       "7     2,029.65  2023-03-23  \n",
       "8     2,027.55  2023-04-23  \n",
       "9     2,025.45  2023-05-23  \n",
       "10    2,023.35  2023-06-23  \n",
       "11    2,021.25  2023-07-23  \n",
       "12    2,019.15  2023-08-23  \n",
       "13    2,017.05  2023-09-23  \n",
       "14 -643,818.39  2023-10-23  "
      ]
     },
     "execution_count": 308,
     "metadata": {},
     "output_type": "execute_result"
    }
   ],
   "source": [
    "delta = relativedelta(months=1)\n",
    "delta_d = timedelta(days=1)\n",
    "start_date = datetime.today().date()+15*delta_d\n",
    "\n",
    "for i in range(0, len(df)):\n",
    "    if i==0:\n",
    "        df.loc[i,'data']=start_date\n",
    "    else:\n",
    "        df.loc[i,'data']=start_date+i*delta\n",
    "\n",
    "df=df[df['total']!=0]\n",
    "df.to_csv('output.csv', header=True, float_format='%.2f')\n",
    "df"
   ]
  },
  {
   "cell_type": "code",
   "execution_count": 309,
   "metadata": {},
   "outputs": [],
   "source": [
    "# calculo da IRR\n",
    "def cal_irr(x):\n",
    "    \n",
    "    dates=list(x['data'])\n",
    "    amounts=list(x['total'])\n",
    "    t_aa=xirr(dates, amounts)\n",
    "    t_am=(1+t_aa)**(1/12)-1\n",
    "    print('TII a.a.(%): ',t_aa*100)\n",
    "    print('TII a.m.(%): ',t_am*100)\n",
    "    print('Lucro: ',-x['total'].sum())\n",
    "    # return (t_aa*100,t_am*100,-x['total'].sum())"
   ]
  },
  {
   "cell_type": "code",
   "execution_count": 310,
   "metadata": {},
   "outputs": [
    {
     "name": "stdout",
     "output_type": "stream",
     "text": [
      "TII a.a.(%):  3.6927795477003054\n",
      "TII a.m.(%):  0.30264286282903896\n",
      "Lucro:  26061.208333333256\n"
     ]
    }
   ],
   "source": [
    "cal_irr(df)"
   ]
  },
  {
   "cell_type": "code",
   "execution_count": 311,
   "metadata": {},
   "outputs": [
    {
     "name": "stdout",
     "output_type": "stream",
     "text": [
      "m2 aquisição: 10156.25\n",
      "m2 reforma: 234.375\n",
      "m2 venda: 11718.75\n"
     ]
    }
   ],
   "source": [
    "valor_m2_aquisicao=valor_imovel/area\n",
    "print(f'm2 aquisição: {valor_m2_aquisicao}')\n",
    "valor_m2_venda=valor_venda/area\n",
    "print(f'm2 reforma: {obra/area}')\n",
    "print(f'm2 venda: {valor_m2_venda}')\n"
   ]
  },
  {
   "cell_type": "code",
   "execution_count": 312,
   "metadata": {},
   "outputs": [
    {
     "data": {
      "text/plain": [
       "796"
      ]
     },
     "execution_count": 312,
     "metadata": {},
     "output_type": "execute_result"
    }
   ],
   "source": [
    "11*66+70"
   ]
  },
  {
   "cell_type": "code",
   "execution_count": 313,
   "metadata": {},
   "outputs": [],
   "source": [
    "### projeções de inflação e crescimento econômico para evolução dos preços de venda"
   ]
  }
 ],
 "metadata": {
  "kernelspec": {
   "display_name": "Python 3.10.6 64-bit",
   "language": "python",
   "name": "python3"
  },
  "language_info": {
   "codemirror_mode": {
    "name": "ipython",
    "version": 3
   },
   "file_extension": ".py",
   "mimetype": "text/x-python",
   "name": "python",
   "nbconvert_exporter": "python",
   "pygments_lexer": "ipython3",
   "version": "3.10.6"
  },
  "orig_nbformat": 4,
  "vscode": {
   "interpreter": {
    "hash": "56a276fc4fc28a70691a0a23041e734fbee624a304b6c6d59b0c547ae7b77065"
   }
  }
 },
 "nbformat": 4,
 "nbformat_minor": 2
}
