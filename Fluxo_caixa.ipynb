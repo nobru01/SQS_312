{
 "cells": [
  {
   "cell_type": "code",
   "execution_count": 354,
   "metadata": {},
   "outputs": [],
   "source": [
    "import pandas as pd\n",
    "from datetime import datetime, timedelta\n",
    "from dateutil.relativedelta import relativedelta\n",
    "from pyxirr import xirr\n",
    "pd.options.display.float_format = '{:,.2f}'.format\n"
   ]
  },
  {
   "cell_type": "markdown",
   "metadata": {},
   "source": [
    "# Imputs"
   ]
  },
  {
   "cell_type": "code",
   "execution_count": 355,
   "metadata": {},
   "outputs": [],
   "source": [
    "df_input=pd.read_csv('./input_fluxo_caixa.csv',header=None,index_col=0)\n",
    "df_input=df_input.rename(columns={1:'valor_variavel'})"
   ]
  },
  {
   "cell_type": "code",
   "execution_count": 356,
   "metadata": {},
   "outputs": [],
   "source": [
    "valor_imovel=df_input.loc['valor_imovel','valor_variavel']\n",
    "entrada_pp=df_input.loc['entrada_pp','valor_variavel']\n",
    "entrada_por_valor=df_input.loc['entrada_por_valor','valor_variavel']\n",
    "financiamento_0_ou_1=df_input.loc['financiamento_0_ou_1','valor_variavel']\n",
    "area=df_input.loc['area','valor_variavel']"
   ]
  },
  {
   "cell_type": "markdown",
   "metadata": {},
   "source": [
    "# Custos Iniciais"
   ]
  },
  {
   "cell_type": "code",
   "execution_count": 357,
   "metadata": {},
   "outputs": [],
   "source": [
    "itbi_parcelado_0_ou_1=df_input.loc['itbi_parcelado_0_ou_1','valor_variavel']\n",
    "custo_itbi=0.03*valor_imovel\n",
    "custo_escritura=df_input.loc['custo_escritura','valor_variavel']\n",
    "custo_registro=df_input.loc['custo_registro','valor_variavel']\n"
   ]
  },
  {
   "cell_type": "markdown",
   "metadata": {},
   "source": [
    "# Cálculo financiamento"
   ]
  },
  {
   "cell_type": "code",
   "execution_count": 358,
   "metadata": {},
   "outputs": [],
   "source": [
    "# Cálculo do juros em função do mês\n",
    "def parcela(n):\n",
    "    saldo_devedor=valor_finaciado-(n-1)*amortizacao\n",
    "    juros=saldo_devedor*juros_nominal/12\n",
    "    return amortizacao+juros+encargos_finaciamento\n"
   ]
  },
  {
   "cell_type": "code",
   "execution_count": 359,
   "metadata": {},
   "outputs": [],
   "source": [
    "if financiamento_0_ou_1==1:\n",
    "    n_parcelas=int(df_input.loc['n_parcelas','valor_variavel'])                         # 35 anos\n",
    "    df=pd.DataFrame(columns=['parcela','saldo_devedor'],index=range(0,n_parcelas))\n",
    "    juros_nominal=df_input.loc['juros_nominal','valor_variavel']                        # a.a    \n",
    "    juros_tr=df_input.loc['tr','valor_variavel']                        # a.a\n",
    "    juros_nominal=juros_nominal+juros_tr\n",
    "    custo_avaliacao=df_input.loc['custo_avaliacao','valor_variavel']\n",
    "    juros_efetivo=((1+juros_nominal/12)**(12)-1)            # Efeito anual dos juros sobre juros mensais.  \n",
    "\n",
    "    # he usual way to test for a NaN is to see if it's equal to itself:\n",
    "    if entrada_por_valor!=entrada_por_valor:\n",
    "        # Não digitou o valor da entrada\n",
    "        if entrada_pp!=entrada_pp:\n",
    "            print('Digite o valor da entrada ou seu percentual.')\n",
    "        else:\n",
    "            valor_entrada=valor_imovel*entrada_pp\n",
    "    else:\n",
    "        valor_entrada=entrada_por_valor\n",
    "    \n",
    "    valor_finaciado=valor_imovel-valor_entrada\n",
    "    encargos_finaciamento=df_input.loc['encargos_finaciamento','valor_variavel']\n",
    "    amortizacao=valor_finaciado/n_parcelas\n",
    "    saldo_devedor=valor_finaciado\n",
    "\n",
    "else:\n",
    "    amortizacao=0\n",
    "    saldo_devedor=0\n",
    "    n_parcelas=0   \n",
    "    juros_nominal=0\n",
    "    custo_avaliacao=0\n",
    "    juros_efetivo=0  \n",
    "    valor_finaciado=0\n",
    "    encargos_finaciamento=0\n",
    "    valor_entrada=valor_imovel\n",
    "    df=pd.DataFrame()"
   ]
  },
  {
   "cell_type": "code",
   "execution_count": 360,
   "metadata": {},
   "outputs": [],
   "source": [
    "total_custos_iniciais=valor_entrada+custo_escritura+custo_registro+custo_avaliacao"
   ]
  },
  {
   "cell_type": "code",
   "execution_count": 361,
   "metadata": {},
   "outputs": [],
   "source": [
    "for i in range(0,max(24,n_parcelas+1)):             # Se não for financiado seta o df para 24 linhas inicialmente\n",
    "    if i==0:\n",
    "        df.loc[i,'saldo_devedor']=valor_finaciado-i*amortizacao\n",
    "        df.loc[i,'parcela']=0\n",
    "    else:\n",
    "\n",
    "        df.loc[i,'saldo_devedor']=valor_finaciado-i*amortizacao\n",
    "        df.loc[i,'parcela']=parcela(i)"
   ]
  },
  {
   "cell_type": "code",
   "execution_count": 362,
   "metadata": {},
   "outputs": [],
   "source": [
    "# ITBI\n",
    "if itbi_parcelado_0_ou_1==1:\n",
    "    for i in range(0,len(df)):\n",
    "        if i <10:\n",
    "            df.loc[i,'itbi']=custo_itbi/10\n",
    "        else:\n",
    "            df.loc[i,'itbi']=0\n",
    "else:\n",
    "    df.loc[0,'itbi']=custo_itbi\n",
    "    for i in range(1,len(df)):\n",
    "        df.loc[0,'itbi']=0"
   ]
  },
  {
   "cell_type": "markdown",
   "metadata": {},
   "source": [
    "# Custos fixos"
   ]
  },
  {
   "cell_type": "code",
   "execution_count": 363,
   "metadata": {},
   "outputs": [],
   "source": [
    "condominio=df_input.loc['condominio','valor_variavel']\n",
    "iptu_am=df_input.loc['iptu_aa','valor_variavel']/12\n",
    "luz=df_input.loc['luz','valor_variavel']\n",
    "\n",
    "total_custos_fixos=condominio+iptu_am+luz"
   ]
  },
  {
   "cell_type": "code",
   "execution_count": 364,
   "metadata": {},
   "outputs": [],
   "source": [
    "for i in range(0,len(df)):\n",
    "    df.loc[i,'custos_fixos']=total_custos_fixos\n",
    "    if i==0:\n",
    "        df.loc[i,'custos_iniciais']=total_custos_iniciais\n",
    "    else:\n",
    "        df.loc[i,'custos_iniciais']=0"
   ]
  },
  {
   "cell_type": "markdown",
   "metadata": {},
   "source": [
    "# Custos com reforma"
   ]
  },
  {
   "cell_type": "code",
   "execution_count": 365,
   "metadata": {},
   "outputs": [],
   "source": [
    "obra=df_input.loc['obra','valor_variavel']\n",
    "prazo_obra=df_input.loc['prazo_obra','valor_variavel']                # Prazo da obra em mesês\n",
    "\n",
    "def reforma(i, n,total):\n",
    "    if i==0:\n",
    "        return 0\n",
    "    elif i<=n:\n",
    "        return total/n\n",
    "    else:\n",
    "        return 0\n",
    "\n",
    "for i in range(0,len(df)):\n",
    "    df.loc[i,'reforma']=reforma(i,prazo_obra,obra)"
   ]
  },
  {
   "cell_type": "markdown",
   "metadata": {},
   "source": [
    "# Cenários de venda"
   ]
  },
  {
   "cell_type": "code",
   "execution_count": 366,
   "metadata": {},
   "outputs": [],
   "source": [
    "valor_venda=df_input.loc['valor_venda','valor_variavel']\n",
    "prazo_venda=int(prazo_obra+df_input.loc['prazo_venda_pos_obra','valor_variavel'])                # Prazo da obra em mesês + venda\n",
    "comissao=df_input.loc['comissao','valor_variavel']"
   ]
  },
  {
   "cell_type": "code",
   "execution_count": 367,
   "metadata": {},
   "outputs": [
    {
     "name": "stdout",
     "output_type": "stream",
     "text": [
      "Comissão: 10575.0\n"
     ]
    }
   ],
   "source": [
    "def venda(i, n,total):\n",
    "    if i==n:\n",
    "        print(f'Comissão: {comissao*valor_venda}')\n",
    "        return -total*(1-comissao)\n",
    "    else:\n",
    "        return 0\n",
    "\n",
    "for i in range(0,len(df)):\n",
    "    df.loc[i,'venda']=venda(i,prazo_venda,valor_venda)\n",
    "df['total']=df.sum(axis=1)\n",
    "df['total']=df['total']-df['saldo_devedor']\n",
    "\n",
    "# quitação do saldo devedor e anulação das despesas à partir da venda\n",
    "for i in range(0,len(df)):\n",
    "    if i>prazo_venda:\n",
    "        df.loc[i,'total']=0\n",
    "    elif i==prazo_venda:\n",
    "        df.loc[i,'total']=df.loc[i,'total']+df.loc[i,'saldo_devedor']"
   ]
  },
  {
   "cell_type": "code",
   "execution_count": 368,
   "metadata": {},
   "outputs": [
    {
     "data": {
      "text/html": [
       "<div>\n",
       "<style scoped>\n",
       "    .dataframe tbody tr th:only-of-type {\n",
       "        vertical-align: middle;\n",
       "    }\n",
       "\n",
       "    .dataframe tbody tr th {\n",
       "        vertical-align: top;\n",
       "    }\n",
       "\n",
       "    .dataframe thead th {\n",
       "        text-align: right;\n",
       "    }\n",
       "</style>\n",
       "<table border=\"1\" class=\"dataframe\">\n",
       "  <thead>\n",
       "    <tr style=\"text-align: right;\">\n",
       "      <th></th>\n",
       "      <th>saldo_devedor</th>\n",
       "      <th>parcela</th>\n",
       "      <th>itbi</th>\n",
       "      <th>custos_fixos</th>\n",
       "      <th>custos_iniciais</th>\n",
       "      <th>reforma</th>\n",
       "      <th>venda</th>\n",
       "      <th>total</th>\n",
       "      <th>data</th>\n",
       "    </tr>\n",
       "  </thead>\n",
       "  <tbody>\n",
       "    <tr>\n",
       "      <th>0</th>\n",
       "      <td>0.00</td>\n",
       "      <td>0.00</td>\n",
       "      <td>1,920.00</td>\n",
       "      <td>771.67</td>\n",
       "      <td>643,700.00</td>\n",
       "      <td>0.00</td>\n",
       "      <td>0.00</td>\n",
       "      <td>646,391.67</td>\n",
       "      <td>2022-09-05</td>\n",
       "    </tr>\n",
       "    <tr>\n",
       "      <th>1</th>\n",
       "      <td>0.00</td>\n",
       "      <td>0.00</td>\n",
       "      <td>1,920.00</td>\n",
       "      <td>771.67</td>\n",
       "      <td>0.00</td>\n",
       "      <td>10,000.00</td>\n",
       "      <td>0.00</td>\n",
       "      <td>12,691.67</td>\n",
       "      <td>2022-10-05</td>\n",
       "    </tr>\n",
       "    <tr>\n",
       "      <th>2</th>\n",
       "      <td>0.00</td>\n",
       "      <td>0.00</td>\n",
       "      <td>1,920.00</td>\n",
       "      <td>771.67</td>\n",
       "      <td>0.00</td>\n",
       "      <td>10,000.00</td>\n",
       "      <td>0.00</td>\n",
       "      <td>12,691.67</td>\n",
       "      <td>2022-11-05</td>\n",
       "    </tr>\n",
       "    <tr>\n",
       "      <th>3</th>\n",
       "      <td>0.00</td>\n",
       "      <td>0.00</td>\n",
       "      <td>1,920.00</td>\n",
       "      <td>771.67</td>\n",
       "      <td>0.00</td>\n",
       "      <td>0.00</td>\n",
       "      <td>0.00</td>\n",
       "      <td>2,691.67</td>\n",
       "      <td>2022-12-05</td>\n",
       "    </tr>\n",
       "    <tr>\n",
       "      <th>4</th>\n",
       "      <td>0.00</td>\n",
       "      <td>0.00</td>\n",
       "      <td>1,920.00</td>\n",
       "      <td>771.67</td>\n",
       "      <td>0.00</td>\n",
       "      <td>0.00</td>\n",
       "      <td>0.00</td>\n",
       "      <td>2,691.67</td>\n",
       "      <td>2023-01-05</td>\n",
       "    </tr>\n",
       "    <tr>\n",
       "      <th>5</th>\n",
       "      <td>0.00</td>\n",
       "      <td>0.00</td>\n",
       "      <td>1,920.00</td>\n",
       "      <td>771.67</td>\n",
       "      <td>0.00</td>\n",
       "      <td>0.00</td>\n",
       "      <td>-694,425.00</td>\n",
       "      <td>-691,733.33</td>\n",
       "      <td>2023-02-05</td>\n",
       "    </tr>\n",
       "  </tbody>\n",
       "</table>\n",
       "</div>"
      ],
      "text/plain": [
       "   saldo_devedor  parcela     itbi  custos_fixos  custos_iniciais   reforma  \\\n",
       "0           0.00     0.00 1,920.00        771.67       643,700.00      0.00   \n",
       "1           0.00     0.00 1,920.00        771.67             0.00 10,000.00   \n",
       "2           0.00     0.00 1,920.00        771.67             0.00 10,000.00   \n",
       "3           0.00     0.00 1,920.00        771.67             0.00      0.00   \n",
       "4           0.00     0.00 1,920.00        771.67             0.00      0.00   \n",
       "5           0.00     0.00 1,920.00        771.67             0.00      0.00   \n",
       "\n",
       "        venda       total        data  \n",
       "0        0.00  646,391.67  2022-09-05  \n",
       "1        0.00   12,691.67  2022-10-05  \n",
       "2        0.00   12,691.67  2022-11-05  \n",
       "3        0.00    2,691.67  2022-12-05  \n",
       "4        0.00    2,691.67  2023-01-05  \n",
       "5 -694,425.00 -691,733.33  2023-02-05  "
      ]
     },
     "execution_count": 368,
     "metadata": {},
     "output_type": "execute_result"
    }
   ],
   "source": [
    "delta = relativedelta(months=1)\n",
    "delta_d = timedelta(days=1)\n",
    "start_date = datetime.today().date()+15*delta_d\n",
    "\n",
    "for i in range(0, len(df)):\n",
    "    if i==0:\n",
    "        df.loc[i,'data']=start_date\n",
    "    else:\n",
    "        df.loc[i,'data']=start_date+i*delta\n",
    "\n",
    "# Filtra apenas até a célula de venda\n",
    "df=df[df['total']!=0]\n",
    "df"
   ]
  },
  {
   "cell_type": "code",
   "execution_count": 369,
   "metadata": {},
   "outputs": [
    {
     "data": {
      "text/html": [
       "<div>\n",
       "<style scoped>\n",
       "    .dataframe tbody tr th:only-of-type {\n",
       "        vertical-align: middle;\n",
       "    }\n",
       "\n",
       "    .dataframe tbody tr th {\n",
       "        vertical-align: top;\n",
       "    }\n",
       "\n",
       "    .dataframe thead th {\n",
       "        text-align: right;\n",
       "    }\n",
       "</style>\n",
       "<table border=\"1\" class=\"dataframe\">\n",
       "  <thead>\n",
       "    <tr style=\"text-align: right;\">\n",
       "      <th></th>\n",
       "      <th>num_indice_selic</th>\n",
       "      <th>num_indice_ipca</th>\n",
       "      <th>dif_num_indice</th>\n",
       "    </tr>\n",
       "  </thead>\n",
       "  <tbody>\n",
       "    <tr>\n",
       "      <th>2022-08-20</th>\n",
       "      <td>100.00</td>\n",
       "      <td>100.00</td>\n",
       "      <td>100.00</td>\n",
       "    </tr>\n",
       "    <tr>\n",
       "      <th>2022-08-21</th>\n",
       "      <td>100.04</td>\n",
       "      <td>99.99</td>\n",
       "      <td>100.04</td>\n",
       "    </tr>\n",
       "    <tr>\n",
       "      <th>2022-08-22</th>\n",
       "      <td>100.07</td>\n",
       "      <td>99.99</td>\n",
       "      <td>100.08</td>\n",
       "    </tr>\n",
       "    <tr>\n",
       "      <th>2022-08-23</th>\n",
       "      <td>100.11</td>\n",
       "      <td>99.98</td>\n",
       "      <td>100.13</td>\n",
       "    </tr>\n",
       "    <tr>\n",
       "      <th>2022-08-24</th>\n",
       "      <td>100.14</td>\n",
       "      <td>99.97</td>\n",
       "      <td>100.17</td>\n",
       "    </tr>\n",
       "    <tr>\n",
       "      <th>...</th>\n",
       "      <td>...</td>\n",
       "      <td>...</td>\n",
       "      <td>...</td>\n",
       "    </tr>\n",
       "    <tr>\n",
       "      <th>2024-08-10</th>\n",
       "      <td>125.54</td>\n",
       "      <td>110.02</td>\n",
       "      <td>115.51</td>\n",
       "    </tr>\n",
       "    <tr>\n",
       "      <th>2024-08-11</th>\n",
       "      <td>125.57</td>\n",
       "      <td>110.03</td>\n",
       "      <td>115.54</td>\n",
       "    </tr>\n",
       "    <tr>\n",
       "      <th>2024-08-12</th>\n",
       "      <td>125.60</td>\n",
       "      <td>110.04</td>\n",
       "      <td>115.56</td>\n",
       "    </tr>\n",
       "    <tr>\n",
       "      <th>2024-08-13</th>\n",
       "      <td>125.63</td>\n",
       "      <td>110.04</td>\n",
       "      <td>115.59</td>\n",
       "    </tr>\n",
       "    <tr>\n",
       "      <th>2024-08-14</th>\n",
       "      <td>125.66</td>\n",
       "      <td>110.05</td>\n",
       "      <td>115.61</td>\n",
       "    </tr>\n",
       "  </tbody>\n",
       "</table>\n",
       "<p>726 rows × 3 columns</p>\n",
       "</div>"
      ],
      "text/plain": [
       "            num_indice_selic  num_indice_ipca  dif_num_indice\n",
       "2022-08-20            100.00           100.00          100.00\n",
       "2022-08-21            100.04            99.99          100.04\n",
       "2022-08-22            100.07            99.99          100.08\n",
       "2022-08-23            100.11            99.98          100.13\n",
       "2022-08-24            100.14            99.97          100.17\n",
       "...                      ...              ...             ...\n",
       "2024-08-10            125.54           110.02          115.51\n",
       "2024-08-11            125.57           110.03          115.54\n",
       "2024-08-12            125.60           110.04          115.56\n",
       "2024-08-13            125.63           110.04          115.59\n",
       "2024-08-14            125.66           110.05          115.61\n",
       "\n",
       "[726 rows x 3 columns]"
      ]
     },
     "execution_count": 369,
     "metadata": {},
     "output_type": "execute_result"
    }
   ],
   "source": [
    "# Importa output da BcB_forcast (os dois diretórios no mesmo caminho)\n",
    "df_juros_real=pd.read_csv(r'../BcB_Forcast/output/num_indice_selic_ipca_diferenca.csv', index_col=0)\n",
    "df_juros_real"
   ]
  },
  {
   "cell_type": "code",
   "execution_count": 370,
   "metadata": {},
   "outputs": [
    {
     "data": {
      "text/html": [
       "<div>\n",
       "<style scoped>\n",
       "    .dataframe tbody tr th:only-of-type {\n",
       "        vertical-align: middle;\n",
       "    }\n",
       "\n",
       "    .dataframe tbody tr th {\n",
       "        vertical-align: top;\n",
       "    }\n",
       "\n",
       "    .dataframe thead th {\n",
       "        text-align: right;\n",
       "    }\n",
       "</style>\n",
       "<table border=\"1\" class=\"dataframe\">\n",
       "  <thead>\n",
       "    <tr style=\"text-align: right;\">\n",
       "      <th></th>\n",
       "      <th>saldo_devedor</th>\n",
       "      <th>parcela</th>\n",
       "      <th>itbi</th>\n",
       "      <th>custos_fixos</th>\n",
       "      <th>custos_iniciais</th>\n",
       "      <th>reforma</th>\n",
       "      <th>venda</th>\n",
       "      <th>total</th>\n",
       "      <th>data</th>\n",
       "      <th>num_selic</th>\n",
       "      <th>total_selic</th>\n",
       "    </tr>\n",
       "  </thead>\n",
       "  <tbody>\n",
       "    <tr>\n",
       "      <th>0</th>\n",
       "      <td>0.00</td>\n",
       "      <td>0.00</td>\n",
       "      <td>1,920.00</td>\n",
       "      <td>771.67</td>\n",
       "      <td>643,700.00</td>\n",
       "      <td>0.00</td>\n",
       "      <td>0.00</td>\n",
       "      <td>646,391.67</td>\n",
       "      <td>2022-09-05</td>\n",
       "      <td>100.57</td>\n",
       "      <td>682,255.90</td>\n",
       "    </tr>\n",
       "    <tr>\n",
       "      <th>1</th>\n",
       "      <td>0.00</td>\n",
       "      <td>0.00</td>\n",
       "      <td>1,920.00</td>\n",
       "      <td>771.67</td>\n",
       "      <td>0.00</td>\n",
       "      <td>10,000.00</td>\n",
       "      <td>0.00</td>\n",
       "      <td>12,691.67</td>\n",
       "      <td>2022-10-05</td>\n",
       "      <td>101.64</td>\n",
       "      <td>13,254.83</td>\n",
       "    </tr>\n",
       "    <tr>\n",
       "      <th>2</th>\n",
       "      <td>0.00</td>\n",
       "      <td>0.00</td>\n",
       "      <td>1,920.00</td>\n",
       "      <td>771.67</td>\n",
       "      <td>0.00</td>\n",
       "      <td>10,000.00</td>\n",
       "      <td>0.00</td>\n",
       "      <td>12,691.67</td>\n",
       "      <td>2022-11-05</td>\n",
       "      <td>102.76</td>\n",
       "      <td>13,110.36</td>\n",
       "    </tr>\n",
       "    <tr>\n",
       "      <th>3</th>\n",
       "      <td>0.00</td>\n",
       "      <td>0.00</td>\n",
       "      <td>1,920.00</td>\n",
       "      <td>771.67</td>\n",
       "      <td>0.00</td>\n",
       "      <td>0.00</td>\n",
       "      <td>0.00</td>\n",
       "      <td>2,691.67</td>\n",
       "      <td>2022-12-05</td>\n",
       "      <td>103.85</td>\n",
       "      <td>2,751.28</td>\n",
       "    </tr>\n",
       "    <tr>\n",
       "      <th>4</th>\n",
       "      <td>0.00</td>\n",
       "      <td>0.00</td>\n",
       "      <td>1,920.00</td>\n",
       "      <td>771.67</td>\n",
       "      <td>0.00</td>\n",
       "      <td>0.00</td>\n",
       "      <td>0.00</td>\n",
       "      <td>2,691.67</td>\n",
       "      <td>2023-01-05</td>\n",
       "      <td>104.99</td>\n",
       "      <td>2,721.41</td>\n",
       "    </tr>\n",
       "    <tr>\n",
       "      <th>5</th>\n",
       "      <td>0.00</td>\n",
       "      <td>0.00</td>\n",
       "      <td>1,920.00</td>\n",
       "      <td>771.67</td>\n",
       "      <td>0.00</td>\n",
       "      <td>0.00</td>\n",
       "      <td>-694,425.00</td>\n",
       "      <td>-691,733.33</td>\n",
       "      <td>2023-02-05</td>\n",
       "      <td>106.15</td>\n",
       "      <td>-691,733.33</td>\n",
       "    </tr>\n",
       "  </tbody>\n",
       "</table>\n",
       "</div>"
      ],
      "text/plain": [
       "   saldo_devedor  parcela     itbi  custos_fixos  custos_iniciais   reforma  \\\n",
       "0           0.00     0.00 1,920.00        771.67       643,700.00      0.00   \n",
       "1           0.00     0.00 1,920.00        771.67             0.00 10,000.00   \n",
       "2           0.00     0.00 1,920.00        771.67             0.00 10,000.00   \n",
       "3           0.00     0.00 1,920.00        771.67             0.00      0.00   \n",
       "4           0.00     0.00 1,920.00        771.67             0.00      0.00   \n",
       "5           0.00     0.00 1,920.00        771.67             0.00      0.00   \n",
       "\n",
       "        venda       total        data  num_selic  total_selic  \n",
       "0        0.00  646,391.67  2022-09-05     100.57   682,255.90  \n",
       "1        0.00   12,691.67  2022-10-05     101.64    13,254.83  \n",
       "2        0.00   12,691.67  2022-11-05     102.76    13,110.36  \n",
       "3        0.00    2,691.67  2022-12-05     103.85     2,751.28  \n",
       "4        0.00    2,691.67  2023-01-05     104.99     2,721.41  \n",
       "5 -694,425.00 -691,733.33  2023-02-05     106.15  -691,733.33  "
      ]
     },
     "execution_count": 370,
     "metadata": {},
     "output_type": "execute_result"
    }
   ],
   "source": [
    "def busca_num_indice_selic(data):\n",
    "    #converte data em string\n",
    "    data=datetime.strftime(data,'%Y-%m-%d')    \n",
    "    return df_juros_real.loc[data,'num_indice_selic']\n",
    "df['num_selic']=df.apply(lambda x: busca_num_indice_selic(x.data),axis=1)\n",
    "\n",
    "def corrige_selic(total,num_selic):\n",
    "    # Número índice de referência (data da venda)\n",
    "    num_indice_ref=df.loc[df.index[-1],'num_selic']\n",
    "    total=total*num_indice_ref/num_selic\n",
    "    return total\n",
    "df['total_selic']=df.apply(lambda x: corrige_selic(x.total,x.num_selic),axis=1)\n",
    "\n",
    "df"
   ]
  },
  {
   "cell_type": "code",
   "execution_count": 371,
   "metadata": {},
   "outputs": [],
   "source": [
    "# calculo da IRR\n",
    "def cal_irr(x):\n",
    "    \n",
    "    dates=list(x['data'])\n",
    "    amounts=list(x['total'])\n",
    "    t_aa=xirr(dates, amounts)\n",
    "    t_am=(1+t_aa)**(1/12)-1\n",
    "    print('TII a.a.(%): ',t_aa*100)\n",
    "    print('TII a.m.(%): ',t_am*100)\n",
    "    print('Lucro: ',-x['total'].sum())\n",
    "\n",
    "    amounts_selic=list(x['total_selic'])\n",
    "    t_aa=xirr(dates, amounts_selic)\n",
    "    t_am=(1+t_aa)**(1/12)-1\n",
    "    print('TII a.a. acima da selic (%): ',t_aa*100)\n",
    "    print('TII a.m. acima da selic (%): ',t_am*100)\n",
    "    print('Lucro: ',-x['total_selic'].sum())\n",
    "    \n",
    "    # return (t_aa*100,t_am*100,-x['total'].sum())"
   ]
  },
  {
   "cell_type": "code",
   "execution_count": 372,
   "metadata": {},
   "outputs": [
    {
     "name": "stdout",
     "output_type": "stream",
     "text": [
      "TII a.a.(%):  5.301810298419976\n",
      "TII a.m.(%):  0.43143153788294253\n",
      "Lucro:  14575.000000000233\n",
      "TII a.a. acima da selic (%):  -7.425963404148115\n",
      "TII a.m. acima da selic (%):  -0.6409493169194036\n",
      "Lucro:  -22360.43144068343\n"
     ]
    }
   ],
   "source": [
    "cal_irr(df)"
   ]
  },
  {
   "cell_type": "code",
   "execution_count": 373,
   "metadata": {},
   "outputs": [
    {
     "name": "stdout",
     "output_type": "stream",
     "text": [
      "m2 aquisição: 10000.0\n",
      "m2 reforma: 312.5\n",
      "m2 venda: 11015.625\n"
     ]
    }
   ],
   "source": [
    "valor_m2_aquisicao=valor_imovel/area\n",
    "print(f'm2 aquisição: {valor_m2_aquisicao}')\n",
    "valor_m2_venda=valor_venda/area\n",
    "print(f'm2 reforma: {obra/area}')\n",
    "print(f'm2 venda: {valor_m2_venda}')\n"
   ]
  },
  {
   "cell_type": "code",
   "execution_count": 374,
   "metadata": {},
   "outputs": [
    {
     "data": {
      "text/plain": [
       "796"
      ]
     },
     "execution_count": 374,
     "metadata": {},
     "output_type": "execute_result"
    }
   ],
   "source": [
    "11*66+70"
   ]
  },
  {
   "cell_type": "code",
   "execution_count": 375,
   "metadata": {},
   "outputs": [],
   "source": [
    "### projeções de inflação e crescimento econômico para evolução dos preços de venda"
   ]
  }
 ],
 "metadata": {
  "kernelspec": {
   "display_name": "Python 3.10.6 64-bit",
   "language": "python",
   "name": "python3"
  },
  "language_info": {
   "codemirror_mode": {
    "name": "ipython",
    "version": 3
   },
   "file_extension": ".py",
   "mimetype": "text/x-python",
   "name": "python",
   "nbconvert_exporter": "python",
   "pygments_lexer": "ipython3",
   "version": "3.10.6"
  },
  "orig_nbformat": 4,
  "vscode": {
   "interpreter": {
    "hash": "56a276fc4fc28a70691a0a23041e734fbee624a304b6c6d59b0c547ae7b77065"
   }
  }
 },
 "nbformat": 4,
 "nbformat_minor": 2
}
