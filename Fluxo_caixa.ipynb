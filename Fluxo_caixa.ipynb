{
 "cells": [
  {
   "cell_type": "code",
   "execution_count": 255,
   "metadata": {},
   "outputs": [],
   "source": [
    "import pandas as pd\n",
    "from datetime import datetime, timedelta\n",
    "from dateutil.relativedelta import relativedelta\n",
    "from pyxirr import xirr\n",
    "pd.options.display.float_format = '{:,.2f}'.format\n"
   ]
  },
  {
   "cell_type": "markdown",
   "metadata": {},
   "source": [
    "# Imputs"
   ]
  },
  {
   "cell_type": "code",
   "execution_count": 256,
   "metadata": {},
   "outputs": [],
   "source": [
    "df_input=pd.read_csv('./input_fluxo_caixa.csv',header=None,index_col=0)\n",
    "df_input=df_input.rename(columns={1:'valor_variavel'})"
   ]
  },
  {
   "cell_type": "code",
   "execution_count": 257,
   "metadata": {},
   "outputs": [],
   "source": [
    "valor_imovel=df_input.loc['valor_imovel','valor_variavel']\n",
    "entrada_pp=df_input.loc['entrada_pp','valor_variavel']\n",
    "n_parcelas=int(df_input.loc['n_parcelas','valor_variavel'])                      # 35 anos\n",
    "juros_nominal=df_input.loc['juros_nominal','valor_variavel']                # a.a"
   ]
  },
  {
   "cell_type": "markdown",
   "metadata": {},
   "source": [
    "# Custos Iniciais"
   ]
  },
  {
   "cell_type": "code",
   "execution_count": 258,
   "metadata": {},
   "outputs": [],
   "source": [
    "valor_entrada=valor_imovel*entrada_pp\n",
    "\n",
    "custo_itbi=0.03*valor_imovel\n",
    "custo_escritura=df_input.loc['custo_escritura','valor_variavel']\n",
    "custo_registro=df_input.loc['custo_registro','valor_variavel']\n",
    "custo_avaliacao=df_input.loc['custo_avaliacao','valor_variavel']\n",
    "\n",
    "total_custos_iniciais=valor_entrada+custo_itbi+custo_escritura+custo_registro+custo_avaliacao\n"
   ]
  },
  {
   "cell_type": "markdown",
   "metadata": {},
   "source": [
    "# Cálculo financiamento"
   ]
  },
  {
   "cell_type": "code",
   "execution_count": 259,
   "metadata": {},
   "outputs": [],
   "source": [
    "juros_efetivo=((1+juros_nominal/12)**(12)-1)            # Efeito anual dos juros sobre juros mensais.  \n",
    "\n",
    "valor_finaciado=valor_imovel-valor_entrada\n",
    "\n",
    "encargos_finaciamento=df_input.loc['encargos_finaciamento','valor_variavel']"
   ]
  },
  {
   "cell_type": "code",
   "execution_count": 260,
   "metadata": {},
   "outputs": [],
   "source": [
    "amortizacao=valor_finaciado/n_parcelas\n",
    "saldo_devedor=valor_finaciado\n",
    "\n",
    "# Cálculo do juros em função do mês\n",
    "def parcela(n):\n",
    "    saldo_devedor=valor_finaciado-(n-1)*amortizacao\n",
    "    juros=saldo_devedor*juros_nominal/12\n",
    "    return amortizacao+juros+encargos_finaciamento\n",
    "\n",
    "df=pd.DataFrame(columns=['parcela','saldo_devedor'],index=range(0,n_parcelas))\n",
    "\n",
    "\n",
    "for i in range(0,n_parcelas+1):\n",
    "    if i==0:\n",
    "        df.loc[i,'saldo_devedor']=valor_finaciado-i*amortizacao\n",
    "        df.loc[i,'parcela']=0\n",
    "    else:\n",
    "\n",
    "        df.loc[i,'saldo_devedor']=valor_finaciado-i*amortizacao\n",
    "        df.loc[i,'parcela']=parcela(i)"
   ]
  },
  {
   "cell_type": "markdown",
   "metadata": {},
   "source": [
    "# Custos fixos"
   ]
  },
  {
   "cell_type": "code",
   "execution_count": 261,
   "metadata": {},
   "outputs": [],
   "source": [
    "condominio=df_input.loc['condominio','valor_variavel']\n",
    "iptu_am=df_input.loc['iptu_aa','valor_variavel']/12\n",
    "luz=df_input.loc['luz','valor_variavel']\n",
    "\n",
    "total_custos_fixos=condominio+iptu_am+luz"
   ]
  },
  {
   "cell_type": "code",
   "execution_count": 262,
   "metadata": {},
   "outputs": [],
   "source": [
    "for i in range(0,len(df)):\n",
    "    df.loc[i,'custos_fixos']=total_custos_fixos\n",
    "    if i==0:\n",
    "        df.loc[i,'custos_iniciais']=total_custos_iniciais\n",
    "    else:\n",
    "        df.loc[i,'custos_iniciais']=0"
   ]
  },
  {
   "cell_type": "markdown",
   "metadata": {},
   "source": [
    "# Custos com reforma"
   ]
  },
  {
   "cell_type": "code",
   "execution_count": 263,
   "metadata": {},
   "outputs": [],
   "source": [
    "obra=df_input.loc['obra','valor_variavel']\n",
    "prazo_obra=df_input.loc['prazo_obra','valor_variavel']                # Prazo da obra em mesês\n",
    "\n",
    "def reforma(i, n,total):\n",
    "    if i==0:\n",
    "        return 0\n",
    "    elif i<=n:\n",
    "        return total/n\n",
    "    else:\n",
    "        return 0\n",
    "\n",
    "for i in range(0,len(df)):\n",
    "    df.loc[i,'reforma']=reforma(i,prazo_obra,obra)"
   ]
  },
  {
   "cell_type": "markdown",
   "metadata": {},
   "source": [
    "# Cenários de venda"
   ]
  },
  {
   "cell_type": "code",
   "execution_count": 264,
   "metadata": {},
   "outputs": [],
   "source": [
    "valor_venda=df_input.loc['valor_venda','valor_variavel']\n",
    "prazo_venda=int(prazo_obra+df_input.loc['prazo_venda_pos_obra','valor_variavel'])                # Prazo da obra em mesês + venda\n",
    "comissao=df_input.loc['comissao','valor_variavel']"
   ]
  },
  {
   "cell_type": "code",
   "execution_count": 265,
   "metadata": {},
   "outputs": [
    {
     "name": "stdout",
     "output_type": "stream",
     "text": [
      "Comissão: 22725.0\n"
     ]
    }
   ],
   "source": [
    "def venda(i, n,total):\n",
    "    if i==n:\n",
    "        print(f'Comissão: {comissao*valor_venda}')\n",
    "        return -total*(1-comissao)\n",
    "    else:\n",
    "        return 0\n",
    "\n",
    "for i in range(0,len(df)):\n",
    "    df.loc[i,'venda']=venda(i,prazo_venda,valor_venda)\n",
    "df['total']=df.sum(axis=1)\n",
    "df['total']=df['total']-df['saldo_devedor']\n",
    "\n",
    "# quitação do saldo devedor e anulação das despesas à partir da venda\n",
    "for i in range(0,len(df)):\n",
    "    if i>prazo_venda:\n",
    "        df.loc[i,'total']=0\n",
    "    elif i==prazo_venda:\n",
    "        df.loc[i,'total']=df.loc[i,'total']+df.loc[i,'saldo_devedor']"
   ]
  },
  {
   "cell_type": "code",
   "execution_count": 266,
   "metadata": {},
   "outputs": [
    {
     "data": {
      "text/html": [
       "<div>\n",
       "<style scoped>\n",
       "    .dataframe tbody tr th:only-of-type {\n",
       "        vertical-align: middle;\n",
       "    }\n",
       "\n",
       "    .dataframe tbody tr th {\n",
       "        vertical-align: top;\n",
       "    }\n",
       "\n",
       "    .dataframe thead th {\n",
       "        text-align: right;\n",
       "    }\n",
       "</style>\n",
       "<table border=\"1\" class=\"dataframe\">\n",
       "  <thead>\n",
       "    <tr style=\"text-align: right;\">\n",
       "      <th></th>\n",
       "      <th>parcela</th>\n",
       "      <th>saldo_devedor</th>\n",
       "      <th>custos_fixos</th>\n",
       "      <th>custos_iniciais</th>\n",
       "      <th>reforma</th>\n",
       "      <th>venda</th>\n",
       "      <th>total</th>\n",
       "      <th>data</th>\n",
       "    </tr>\n",
       "  </thead>\n",
       "  <tbody>\n",
       "    <tr>\n",
       "      <th>0</th>\n",
       "      <td>0</td>\n",
       "      <td>576,000.00</td>\n",
       "      <td>951.50</td>\n",
       "      <td>174,600.00</td>\n",
       "      <td>0.00</td>\n",
       "      <td>0.00</td>\n",
       "      <td>175,551.50</td>\n",
       "      <td>2022-08-15</td>\n",
       "    </tr>\n",
       "    <tr>\n",
       "      <th>1</th>\n",
       "      <td>5,336.63</td>\n",
       "      <td>574,628.57</td>\n",
       "      <td>951.50</td>\n",
       "      <td>0.00</td>\n",
       "      <td>23,750.00</td>\n",
       "      <td>0.00</td>\n",
       "      <td>30,038.13</td>\n",
       "      <td>2022-09-15</td>\n",
       "    </tr>\n",
       "    <tr>\n",
       "      <th>2</th>\n",
       "      <td>5,327.50</td>\n",
       "      <td>573,257.14</td>\n",
       "      <td>951.50</td>\n",
       "      <td>0.00</td>\n",
       "      <td>23,750.00</td>\n",
       "      <td>0.00</td>\n",
       "      <td>30,029.00</td>\n",
       "      <td>2022-10-15</td>\n",
       "    </tr>\n",
       "    <tr>\n",
       "      <th>3</th>\n",
       "      <td>5,318.37</td>\n",
       "      <td>571,885.71</td>\n",
       "      <td>951.50</td>\n",
       "      <td>0.00</td>\n",
       "      <td>23,750.00</td>\n",
       "      <td>0.00</td>\n",
       "      <td>30,019.87</td>\n",
       "      <td>2022-11-15</td>\n",
       "    </tr>\n",
       "    <tr>\n",
       "      <th>4</th>\n",
       "      <td>5,309.23</td>\n",
       "      <td>570,514.29</td>\n",
       "      <td>951.50</td>\n",
       "      <td>0.00</td>\n",
       "      <td>23,750.00</td>\n",
       "      <td>0.00</td>\n",
       "      <td>30,010.73</td>\n",
       "      <td>2022-12-15</td>\n",
       "    </tr>\n",
       "    <tr>\n",
       "      <th>5</th>\n",
       "      <td>5,300.10</td>\n",
       "      <td>569,142.86</td>\n",
       "      <td>951.50</td>\n",
       "      <td>0.00</td>\n",
       "      <td>0.00</td>\n",
       "      <td>0.00</td>\n",
       "      <td>6,251.60</td>\n",
       "      <td>2023-01-15</td>\n",
       "    </tr>\n",
       "    <tr>\n",
       "      <th>6</th>\n",
       "      <td>5,290.97</td>\n",
       "      <td>567,771.43</td>\n",
       "      <td>951.50</td>\n",
       "      <td>0.00</td>\n",
       "      <td>0.00</td>\n",
       "      <td>-886,275.00</td>\n",
       "      <td>-312,261.10</td>\n",
       "      <td>2023-02-15</td>\n",
       "    </tr>\n",
       "    <tr>\n",
       "      <th>7</th>\n",
       "      <td>5,281.84</td>\n",
       "      <td>566,400.00</td>\n",
       "      <td>951.50</td>\n",
       "      <td>0.00</td>\n",
       "      <td>0.00</td>\n",
       "      <td>0.00</td>\n",
       "      <td>0</td>\n",
       "      <td>2023-03-15</td>\n",
       "    </tr>\n",
       "    <tr>\n",
       "      <th>8</th>\n",
       "      <td>5,272.71</td>\n",
       "      <td>565,028.57</td>\n",
       "      <td>951.50</td>\n",
       "      <td>0.00</td>\n",
       "      <td>0.00</td>\n",
       "      <td>0.00</td>\n",
       "      <td>0</td>\n",
       "      <td>2023-04-15</td>\n",
       "    </tr>\n",
       "    <tr>\n",
       "      <th>9</th>\n",
       "      <td>5,263.58</td>\n",
       "      <td>563,657.14</td>\n",
       "      <td>951.50</td>\n",
       "      <td>0.00</td>\n",
       "      <td>0.00</td>\n",
       "      <td>0.00</td>\n",
       "      <td>0</td>\n",
       "      <td>2023-05-15</td>\n",
       "    </tr>\n",
       "    <tr>\n",
       "      <th>10</th>\n",
       "      <td>5,254.45</td>\n",
       "      <td>562,285.71</td>\n",
       "      <td>951.50</td>\n",
       "      <td>0.00</td>\n",
       "      <td>0.00</td>\n",
       "      <td>0.00</td>\n",
       "      <td>0</td>\n",
       "      <td>2023-06-15</td>\n",
       "    </tr>\n",
       "    <tr>\n",
       "      <th>11</th>\n",
       "      <td>5,245.31</td>\n",
       "      <td>560,914.29</td>\n",
       "      <td>951.50</td>\n",
       "      <td>0.00</td>\n",
       "      <td>0.00</td>\n",
       "      <td>0.00</td>\n",
       "      <td>0</td>\n",
       "      <td>2023-07-15</td>\n",
       "    </tr>\n",
       "  </tbody>\n",
       "</table>\n",
       "</div>"
      ],
      "text/plain": [
       "    parcela saldo_devedor  custos_fixos  custos_iniciais   reforma  \\\n",
       "0         0    576,000.00        951.50       174,600.00      0.00   \n",
       "1  5,336.63    574,628.57        951.50             0.00 23,750.00   \n",
       "2  5,327.50    573,257.14        951.50             0.00 23,750.00   \n",
       "3  5,318.37    571,885.71        951.50             0.00 23,750.00   \n",
       "4  5,309.23    570,514.29        951.50             0.00 23,750.00   \n",
       "5  5,300.10    569,142.86        951.50             0.00      0.00   \n",
       "6  5,290.97    567,771.43        951.50             0.00      0.00   \n",
       "7  5,281.84    566,400.00        951.50             0.00      0.00   \n",
       "8  5,272.71    565,028.57        951.50             0.00      0.00   \n",
       "9  5,263.58    563,657.14        951.50             0.00      0.00   \n",
       "10 5,254.45    562,285.71        951.50             0.00      0.00   \n",
       "11 5,245.31    560,914.29        951.50             0.00      0.00   \n",
       "\n",
       "         venda       total        data  \n",
       "0         0.00  175,551.50  2022-08-15  \n",
       "1         0.00   30,038.13  2022-09-15  \n",
       "2         0.00   30,029.00  2022-10-15  \n",
       "3         0.00   30,019.87  2022-11-15  \n",
       "4         0.00   30,010.73  2022-12-15  \n",
       "5         0.00    6,251.60  2023-01-15  \n",
       "6  -886,275.00 -312,261.10  2023-02-15  \n",
       "7         0.00           0  2023-03-15  \n",
       "8         0.00           0  2023-04-15  \n",
       "9         0.00           0  2023-05-15  \n",
       "10        0.00           0  2023-06-15  \n",
       "11        0.00           0  2023-07-15  "
      ]
     },
     "execution_count": 266,
     "metadata": {},
     "output_type": "execute_result"
    }
   ],
   "source": [
    "delta = relativedelta(months=1)\n",
    "delta_d = timedelta(days=1)\n",
    "start_date = datetime.today().date()+15*delta_d\n",
    "\n",
    "for i in range(0, len(df)):\n",
    "    if i==0:\n",
    "        df.loc[i,'data']=start_date\n",
    "    else:\n",
    "        df.loc[i,'data']=start_date+i*delta\n",
    "\n",
    "df.head(12)"
   ]
  },
  {
   "cell_type": "code",
   "execution_count": 267,
   "metadata": {},
   "outputs": [],
   "source": [
    "# calculo da IRR\n",
    "def cal_irr(x):\n",
    "    \n",
    "    dates=list(x['data'])\n",
    "    amounts=list(x['total'])\n",
    "    t_aa=xirr(dates, amounts)\n",
    "    t_am=(1+t_aa)**(1/12)-1\n",
    "    print('TII a.a.(%): ',t_aa*100)\n",
    "    print('TII a.m.(%): ',t_am*100)\n",
    "    print('Soma dos valores: ',-x['total'].sum())\n",
    "    # return (t_aa*100,t_am*100,-x['total'].sum())"
   ]
  },
  {
   "cell_type": "code",
   "execution_count": 268,
   "metadata": {},
   "outputs": [
    {
     "name": "stdout",
     "output_type": "stream",
     "text": [
      "TII a.a.(%):  8.518743977172852\n",
      "TII a.m.(%):  0.6835986718487952\n",
      "Soma dos valores:  10360.271428571432\n"
     ]
    }
   ],
   "source": [
    "cal_irr(df)"
   ]
  },
  {
   "cell_type": "code",
   "execution_count": 269,
   "metadata": {},
   "outputs": [],
   "source": [
    "### projeções de inflação e crescimento econômico para evolução dos preços de venda"
   ]
  }
 ],
 "metadata": {
  "kernelspec": {
   "display_name": "Python 3.10.4 64-bit",
   "language": "python",
   "name": "python3"
  },
  "language_info": {
   "codemirror_mode": {
    "name": "ipython",
    "version": 3
   },
   "file_extension": ".py",
   "mimetype": "text/x-python",
   "name": "python",
   "nbconvert_exporter": "python",
   "pygments_lexer": "ipython3",
   "version": "3.10.4"
  },
  "orig_nbformat": 4,
  "vscode": {
   "interpreter": {
    "hash": "56a276fc4fc28a70691a0a23041e734fbee624a304b6c6d59b0c547ae7b77065"
   }
  }
 },
 "nbformat": 4,
 "nbformat_minor": 2
}
